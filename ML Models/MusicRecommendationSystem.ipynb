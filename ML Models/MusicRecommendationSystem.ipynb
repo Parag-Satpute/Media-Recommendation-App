{
 "cells": [
  {
   "cell_type": "code",
   "execution_count": 1,
   "id": "d1a505f6",
   "metadata": {},
   "outputs": [
    {
     "data": {
      "text/html": [
       "<div>\n",
       "<style scoped>\n",
       "    .dataframe tbody tr th:only-of-type {\n",
       "        vertical-align: middle;\n",
       "    }\n",
       "\n",
       "    .dataframe tbody tr th {\n",
       "        vertical-align: top;\n",
       "    }\n",
       "\n",
       "    .dataframe thead th {\n",
       "        text-align: right;\n",
       "    }\n",
       "</style>\n",
       "<table border=\"1\" class=\"dataframe\">\n",
       "  <thead>\n",
       "    <tr style=\"text-align: right;\">\n",
       "      <th></th>\n",
       "      <th>track_id</th>\n",
       "      <th>track_name</th>\n",
       "      <th>track_artist</th>\n",
       "      <th>lyrics</th>\n",
       "      <th>track_popularity</th>\n",
       "      <th>track_album_id</th>\n",
       "      <th>track_album_name</th>\n",
       "      <th>track_album_release_date</th>\n",
       "      <th>playlist_name</th>\n",
       "      <th>playlist_id</th>\n",
       "      <th>...</th>\n",
       "      <th>loudness</th>\n",
       "      <th>mode</th>\n",
       "      <th>speechiness</th>\n",
       "      <th>acousticness</th>\n",
       "      <th>instrumentalness</th>\n",
       "      <th>liveness</th>\n",
       "      <th>valence</th>\n",
       "      <th>tempo</th>\n",
       "      <th>duration_ms</th>\n",
       "      <th>language</th>\n",
       "    </tr>\n",
       "  </thead>\n",
       "  <tbody>\n",
       "    <tr>\n",
       "      <th>0</th>\n",
       "      <td>0017A6SJgTbfQVU2EtsPNo</td>\n",
       "      <td>Pangarap</td>\n",
       "      <td>Barbie's Cradle</td>\n",
       "      <td>Minsan pa Nang ako'y napalingon Hindi ko alam ...</td>\n",
       "      <td>41</td>\n",
       "      <td>1srJQ0njEQgd8w4XSqI4JQ</td>\n",
       "      <td>Trip</td>\n",
       "      <td>2001-01-01</td>\n",
       "      <td>Pinoy Classic Rock</td>\n",
       "      <td>37i9dQZF1DWYDQ8wBxd7xt</td>\n",
       "      <td>...</td>\n",
       "      <td>-10.068</td>\n",
       "      <td>1</td>\n",
       "      <td>0.0236</td>\n",
       "      <td>0.27900</td>\n",
       "      <td>0.01170</td>\n",
       "      <td>0.0887</td>\n",
       "      <td>0.566</td>\n",
       "      <td>97.091</td>\n",
       "      <td>235440</td>\n",
       "      <td>tl</td>\n",
       "    </tr>\n",
       "    <tr>\n",
       "      <th>1</th>\n",
       "      <td>004s3t0ONYlzxII9PLgU6z</td>\n",
       "      <td>I Feel Alive</td>\n",
       "      <td>Steady Rollin</td>\n",
       "      <td>The trees, are singing in the wind The sky blu...</td>\n",
       "      <td>28</td>\n",
       "      <td>3z04Lb9Dsilqw68SHt6jLB</td>\n",
       "      <td>Love &amp; Loss</td>\n",
       "      <td>2017-11-21</td>\n",
       "      <td>Hard Rock Workout</td>\n",
       "      <td>3YouF0u7waJnolytf9JCXf</td>\n",
       "      <td>...</td>\n",
       "      <td>-4.739</td>\n",
       "      <td>1</td>\n",
       "      <td>0.0442</td>\n",
       "      <td>0.01170</td>\n",
       "      <td>0.00994</td>\n",
       "      <td>0.3470</td>\n",
       "      <td>0.404</td>\n",
       "      <td>135.225</td>\n",
       "      <td>373512</td>\n",
       "      <td>en</td>\n",
       "    </tr>\n",
       "    <tr>\n",
       "      <th>2</th>\n",
       "      <td>00chLpzhgVjxs1zKC9UScL</td>\n",
       "      <td>Poison</td>\n",
       "      <td>Bell Biv DeVoe</td>\n",
       "      <td>NA Yeah, Spyderman and Freeze in full effect U...</td>\n",
       "      <td>0</td>\n",
       "      <td>6oZ6brjB8x3GoeSYdwJdPc</td>\n",
       "      <td>Gold</td>\n",
       "      <td>2005-01-01</td>\n",
       "      <td>Back in the day - R&amp;B, New Jack Swing, Swingbe...</td>\n",
       "      <td>3a9y4eeCJRmG9p4YKfqYIx</td>\n",
       "      <td>...</td>\n",
       "      <td>-7.504</td>\n",
       "      <td>0</td>\n",
       "      <td>0.2160</td>\n",
       "      <td>0.00432</td>\n",
       "      <td>0.00723</td>\n",
       "      <td>0.4890</td>\n",
       "      <td>0.650</td>\n",
       "      <td>111.904</td>\n",
       "      <td>262467</td>\n",
       "      <td>en</td>\n",
       "    </tr>\n",
       "    <tr>\n",
       "      <th>3</th>\n",
       "      <td>00cqd6ZsSkLZqGMlQCR0Zo</td>\n",
       "      <td>Baby It's Cold Outside (feat. Christina Aguilera)</td>\n",
       "      <td>CeeLo Green</td>\n",
       "      <td>I really can't stay Baby it's cold outside I'v...</td>\n",
       "      <td>41</td>\n",
       "      <td>3ssspRe42CXkhPxdc12xcp</td>\n",
       "      <td>CeeLo's Magic Moment</td>\n",
       "      <td>2012-10-29</td>\n",
       "      <td>Christmas Soul</td>\n",
       "      <td>6FZYc2BvF7tColxO8PBShV</td>\n",
       "      <td>...</td>\n",
       "      <td>-5.819</td>\n",
       "      <td>0</td>\n",
       "      <td>0.0341</td>\n",
       "      <td>0.68900</td>\n",
       "      <td>0.00000</td>\n",
       "      <td>0.0664</td>\n",
       "      <td>0.405</td>\n",
       "      <td>118.593</td>\n",
       "      <td>243067</td>\n",
       "      <td>en</td>\n",
       "    </tr>\n",
       "    <tr>\n",
       "      <th>4</th>\n",
       "      <td>00emjlCv9azBN0fzuuyLqy</td>\n",
       "      <td>Dumb Litty</td>\n",
       "      <td>KARD</td>\n",
       "      <td>Get up out of my business You don't keep me fr...</td>\n",
       "      <td>65</td>\n",
       "      <td>7h5X3xhh3peIK9Y0qI5hbK</td>\n",
       "      <td>KARD 2nd Digital Single ‘Dumb Litty’</td>\n",
       "      <td>2019-09-22</td>\n",
       "      <td>K-Party Dance Mix</td>\n",
       "      <td>37i9dQZF1DX4RDXswvP6Mj</td>\n",
       "      <td>...</td>\n",
       "      <td>-1.993</td>\n",
       "      <td>1</td>\n",
       "      <td>0.0409</td>\n",
       "      <td>0.03700</td>\n",
       "      <td>0.00000</td>\n",
       "      <td>0.1380</td>\n",
       "      <td>0.240</td>\n",
       "      <td>130.018</td>\n",
       "      <td>193160</td>\n",
       "      <td>en</td>\n",
       "    </tr>\n",
       "  </tbody>\n",
       "</table>\n",
       "<p>5 rows × 25 columns</p>\n",
       "</div>"
      ],
      "text/plain": [
       "                 track_id                                         track_name  \\\n",
       "0  0017A6SJgTbfQVU2EtsPNo                                           Pangarap   \n",
       "1  004s3t0ONYlzxII9PLgU6z                                       I Feel Alive   \n",
       "2  00chLpzhgVjxs1zKC9UScL                                             Poison   \n",
       "3  00cqd6ZsSkLZqGMlQCR0Zo  Baby It's Cold Outside (feat. Christina Aguilera)   \n",
       "4  00emjlCv9azBN0fzuuyLqy                                         Dumb Litty   \n",
       "\n",
       "      track_artist                                             lyrics  \\\n",
       "0  Barbie's Cradle  Minsan pa Nang ako'y napalingon Hindi ko alam ...   \n",
       "1    Steady Rollin  The trees, are singing in the wind The sky blu...   \n",
       "2   Bell Biv DeVoe  NA Yeah, Spyderman and Freeze in full effect U...   \n",
       "3      CeeLo Green  I really can't stay Baby it's cold outside I'v...   \n",
       "4             KARD  Get up out of my business You don't keep me fr...   \n",
       "\n",
       "   track_popularity          track_album_id  \\\n",
       "0                41  1srJQ0njEQgd8w4XSqI4JQ   \n",
       "1                28  3z04Lb9Dsilqw68SHt6jLB   \n",
       "2                 0  6oZ6brjB8x3GoeSYdwJdPc   \n",
       "3                41  3ssspRe42CXkhPxdc12xcp   \n",
       "4                65  7h5X3xhh3peIK9Y0qI5hbK   \n",
       "\n",
       "                       track_album_name track_album_release_date  \\\n",
       "0                                  Trip               2001-01-01   \n",
       "1                           Love & Loss               2017-11-21   \n",
       "2                                  Gold               2005-01-01   \n",
       "3                  CeeLo's Magic Moment               2012-10-29   \n",
       "4  KARD 2nd Digital Single ‘Dumb Litty’               2019-09-22   \n",
       "\n",
       "                                       playlist_name             playlist_id  \\\n",
       "0                                 Pinoy Classic Rock  37i9dQZF1DWYDQ8wBxd7xt   \n",
       "1                                  Hard Rock Workout  3YouF0u7waJnolytf9JCXf   \n",
       "2  Back in the day - R&B, New Jack Swing, Swingbe...  3a9y4eeCJRmG9p4YKfqYIx   \n",
       "3                                     Christmas Soul  6FZYc2BvF7tColxO8PBShV   \n",
       "4                                  K-Party Dance Mix  37i9dQZF1DX4RDXswvP6Mj   \n",
       "\n",
       "   ... loudness mode  speechiness  acousticness  instrumentalness  liveness  \\\n",
       "0  ...  -10.068    1       0.0236       0.27900           0.01170    0.0887   \n",
       "1  ...   -4.739    1       0.0442       0.01170           0.00994    0.3470   \n",
       "2  ...   -7.504    0       0.2160       0.00432           0.00723    0.4890   \n",
       "3  ...   -5.819    0       0.0341       0.68900           0.00000    0.0664   \n",
       "4  ...   -1.993    1       0.0409       0.03700           0.00000    0.1380   \n",
       "\n",
       "   valence    tempo  duration_ms  language  \n",
       "0    0.566   97.091       235440        tl  \n",
       "1    0.404  135.225       373512        en  \n",
       "2    0.650  111.904       262467        en  \n",
       "3    0.405  118.593       243067        en  \n",
       "4    0.240  130.018       193160        en  \n",
       "\n",
       "[5 rows x 25 columns]"
      ]
     },
     "execution_count": 1,
     "metadata": {},
     "output_type": "execute_result"
    }
   ],
   "source": [
    "import numpy as np\n",
    "import pandas as pd\n",
    "data = pd.read_csv('D:\\datasets\\spotify_songs.csv')\n",
    "data.head()"
   ]
  },
  {
   "cell_type": "code",
   "execution_count": 2,
   "id": "795ed1e8",
   "metadata": {},
   "outputs": [],
   "source": [
    "data = data.drop(columns=['track_popularity','track_album_release_date','playlist_name','playlist_id', 'track_album_id', 'track_album_name','loudness','mode','speechiness','acousticness','instrumentalness','liveness','valence','tempo','duration_ms','danceability','energy','key'])"
   ]
  },
  {
   "cell_type": "code",
   "execution_count": 3,
   "id": "d99bb2f1",
   "metadata": {},
   "outputs": [
    {
     "data": {
      "text/html": [
       "<div>\n",
       "<style scoped>\n",
       "    .dataframe tbody tr th:only-of-type {\n",
       "        vertical-align: middle;\n",
       "    }\n",
       "\n",
       "    .dataframe tbody tr th {\n",
       "        vertical-align: top;\n",
       "    }\n",
       "\n",
       "    .dataframe thead th {\n",
       "        text-align: right;\n",
       "    }\n",
       "</style>\n",
       "<table border=\"1\" class=\"dataframe\">\n",
       "  <thead>\n",
       "    <tr style=\"text-align: right;\">\n",
       "      <th></th>\n",
       "      <th>track_id</th>\n",
       "      <th>track_name</th>\n",
       "      <th>track_artist</th>\n",
       "      <th>lyrics</th>\n",
       "      <th>playlist_genre</th>\n",
       "      <th>playlist_subgenre</th>\n",
       "      <th>language</th>\n",
       "    </tr>\n",
       "  </thead>\n",
       "  <tbody>\n",
       "    <tr>\n",
       "      <th>0</th>\n",
       "      <td>0017A6SJgTbfQVU2EtsPNo</td>\n",
       "      <td>Pangarap</td>\n",
       "      <td>Barbie's Cradle</td>\n",
       "      <td>Minsan pa Nang ako'y napalingon Hindi ko alam ...</td>\n",
       "      <td>rock</td>\n",
       "      <td>classic rock</td>\n",
       "      <td>tl</td>\n",
       "    </tr>\n",
       "  </tbody>\n",
       "</table>\n",
       "</div>"
      ],
      "text/plain": [
       "                 track_id track_name     track_artist  \\\n",
       "0  0017A6SJgTbfQVU2EtsPNo   Pangarap  Barbie's Cradle   \n",
       "\n",
       "                                              lyrics playlist_genre  \\\n",
       "0  Minsan pa Nang ako'y napalingon Hindi ko alam ...           rock   \n",
       "\n",
       "  playlist_subgenre language  \n",
       "0      classic rock       tl  "
      ]
     },
     "execution_count": 3,
     "metadata": {},
     "output_type": "execute_result"
    }
   ],
   "source": [
    "data.head(1)"
   ]
  },
  {
   "cell_type": "code",
   "execution_count": 4,
   "id": "fd8563da",
   "metadata": {},
   "outputs": [],
   "source": [
    "def collapse(L):\n",
    "    L1 = []\n",
    "    for i in L:\n",
    "        L1.append(i.replace(\" \",\"\"))\n",
    "    return L1"
   ]
  },
  {
   "cell_type": "code",
   "execution_count": 5,
   "id": "8fa89496",
   "metadata": {},
   "outputs": [],
   "source": [
    "data['artist'] = data['track_artist'].apply(collapse)\n",
    "data['genre'] = data['playlist_genre'].apply(collapse)"
   ]
  },
  {
   "cell_type": "code",
   "execution_count": 6,
   "id": "225138f4",
   "metadata": {},
   "outputs": [
    {
     "data": {
      "text/plain": [
       "['B',\n",
       " 'a',\n",
       " 'r',\n",
       " 'b',\n",
       " 'i',\n",
       " 'e',\n",
       " \"'\",\n",
       " 's',\n",
       " '',\n",
       " 'C',\n",
       " 'r',\n",
       " 'a',\n",
       " 'd',\n",
       " 'l',\n",
       " 'e',\n",
       " 'r',\n",
       " 'o',\n",
       " 'c',\n",
       " 'k']"
      ]
     },
     "execution_count": 6,
     "metadata": {},
     "output_type": "execute_result"
    }
   ],
   "source": [
    "data['tags'] = data['artist'] + data['genre']\n",
    "data['tags'][0]"
   ]
  },
  {
   "cell_type": "code",
   "execution_count": 7,
   "id": "d4cc1e4a",
   "metadata": {},
   "outputs": [],
   "source": [
    "data['tags'] = data['tags'].apply(lambda x: \" \".join(x))"
   ]
  },
  {
   "cell_type": "code",
   "execution_count": 8,
   "id": "ee566284",
   "metadata": {},
   "outputs": [],
   "source": [
    "data.to_csv('songs_data.csv')"
   ]
  },
  {
   "cell_type": "code",
   "execution_count": 9,
   "id": "e826fb02",
   "metadata": {},
   "outputs": [],
   "source": [
    "#data = data.head(10000)\n",
    "from sklearn.feature_extraction.text import TfidfVectorizer, CountVectorizer\n",
    "cv = CountVectorizer(min_df=0, max_features=500,stop_words='english', token_pattern='(?u)\\\\b\\\\w+\\\\b')\n",
    "#tf = TfidfVectorizer(analyzer='word',min_df=0, stop_words='english', token_pattern='(?u)\\\\b\\\\w+\\\\b', max_features=5000)"
   ]
  },
  {
   "cell_type": "code",
   "execution_count": 10,
   "id": "22ec9443",
   "metadata": {},
   "outputs": [
    {
     "data": {
      "text/plain": [
       "0                     B a r b i e ' s  C r a d l e r o c k\n",
       "1                         S t e a d y  R o l l i n r o c k\n",
       "2                          B e l l  B i v  D e V o e r & b\n",
       "3                               C e e L o  G r e e n r & b\n",
       "4                                            K A R D p o p\n",
       "                               ...                        \n",
       "18449                                  Q u l i n e z e d m\n",
       "18450                           N i c k i  M i n a j p o p\n",
       "18451    P o n d e r o s a  T w i n s  P l u s  O n e r...\n",
       "18452                               F a t h e r  M C r & b\n",
       "18453                          M o o n s t a r 8 8 r o c k\n",
       "Name: tags, Length: 18454, dtype: object"
      ]
     },
     "execution_count": 10,
     "metadata": {},
     "output_type": "execute_result"
    }
   ],
   "source": [
    "data['tags']"
   ]
  },
  {
   "cell_type": "code",
   "execution_count": 11,
   "id": "06c88b8e",
   "metadata": {},
   "outputs": [],
   "source": [
    "#vector = cv.fit_transform(data['tags']).toarray()\n",
    "vector = cv.fit_transform(data['tags']).toarray()"
   ]
  },
  {
   "cell_type": "code",
   "execution_count": 12,
   "id": "bbc7486c",
   "metadata": {},
   "outputs": [
    {
     "data": {
      "text/plain": [
       "(18454, 37)"
      ]
     },
     "execution_count": 12,
     "metadata": {},
     "output_type": "execute_result"
    }
   ],
   "source": [
    "vector.shape"
   ]
  },
  {
   "cell_type": "code",
   "execution_count": 13,
   "id": "8f0b0705",
   "metadata": {},
   "outputs": [
    {
     "data": {
      "text/plain": [
       "340550116"
      ]
     },
     "execution_count": 13,
     "metadata": {},
     "output_type": "execute_result"
    }
   ],
   "source": [
    "from sklearn.metrics.pairwise import cosine_similarity\n",
    "similarity = cosine_similarity(vector)\n",
    "similarity.size"
   ]
  },
  {
   "cell_type": "code",
   "execution_count": 14,
   "id": "ae5cce22",
   "metadata": {},
   "outputs": [],
   "source": [
    "similarities = {}\n",
    "for i in range(len(similarity)):\n",
    "    # Now we'll sort each element in cosine_similarities and get the indexes of the songs.\n",
    "    similar_indices = similarity[i].argsort()[:-50:-1]\n",
    "    # After that, we'll store in similarities each name of the 50 most similar songs.\n",
    "    # Except the first one that is the same song.\n",
    "    similarities[data['track_name'].iloc[i]] = [(similarity[i][x], data['track_name'][x], data['track_artist'][x]) for x in similar_indices][1:]"
   ]
  },
  {
   "cell_type": "code",
   "execution_count": 15,
   "id": "846f9235",
   "metadata": {},
   "outputs": [],
   "source": [
    "import pickle\n",
    "file = \"similarity.pkl\"\n",
    "fileobj = open(file, 'wb')\n",
    "pickle.dump(similarities, fileobj)\n",
    "fileobj.close()"
   ]
  },
  {
   "cell_type": "code",
   "execution_count": 16,
   "id": "55808a90",
   "metadata": {},
   "outputs": [],
   "source": [
    "class SongRecommender:\n",
    "    def __init__(self, matrix):\n",
    "        self.matrix_similar = matrix\n",
    "\n",
    "    def get_info(self, recom_song):\n",
    "        rec_items = len(recom_song)\n",
    "        songs = []\n",
    "        artist_list = []\n",
    "        for i in range(rec_items):\n",
    "            songs.append(recom_song[i][1])\n",
    "            artist_list.append(recom_song[i][2])\n",
    "            df = data[data['track_name'] == recom_song[i][1]]\n",
    "            #lyrics.append(df['Lyrics'])\n",
    "            #print(f\"{recom_song[i][1]} by {recom_song[i][2]}\")\n",
    "        return songs, artist_list\n",
    "        \n",
    "    def recommend(self, song):\n",
    "        recommendations = []\n",
    "        # Get artist to find recommendations for\n",
    "        artist_df = data[data['track_name'] == song]\n",
    "        artist = artist_df['track_artist']\n",
    "        # Get the number of songs most similars from matrix similarities\n",
    "        recom_song = self.matrix_similar[song][1:6]\n",
    "        songs, artists = self.get_info(recom_song=recom_song)\n",
    "        for x in range(len(artists)):\n",
    "            d = {}\n",
    "            d['title'] = songs[x]\n",
    "            d['artist'] = artists[x]\n",
    "            #d['lyrics'] = lyrics[x].iloc[0]\n",
    "            recommendations.append(d)\n",
    "        return recommendations"
   ]
  },
  {
   "cell_type": "code",
   "execution_count": 17,
   "id": "c5c525bc",
   "metadata": {},
   "outputs": [],
   "source": [
    "def getRecommendations(song):\n",
    "    return SongRecommender(similarities).recommend(song)"
   ]
  },
  {
   "cell_type": "code",
   "execution_count": 18,
   "id": "bb8c3b53",
   "metadata": {},
   "outputs": [
    {
     "data": {
      "text/plain": [
       "[{'title': 'All Falls Down (feat. Juliander)', 'artist': 'Alan Walker'},\n",
       " {'title': 'Faded - Dash Berlin Remix', 'artist': 'Alan Walker'},\n",
       " {'title': 'Diamond Heart', 'artist': 'Alan Walker'},\n",
       " {'title': 'Sing Me to Sleep', 'artist': 'Alan Walker'},\n",
       " {'title': 'Darkside', 'artist': 'Alan Walker'}]"
      ]
     },
     "execution_count": 18,
     "metadata": {},
     "output_type": "execute_result"
    }
   ],
   "source": [
    "getRecommendations(\"Ignite\")"
   ]
  }
 ],
 "metadata": {
  "kernelspec": {
   "display_name": "Python 3 (ipykernel)",
   "language": "python",
   "name": "python3"
  },
  "language_info": {
   "codemirror_mode": {
    "name": "ipython",
    "version": 3
   },
   "file_extension": ".py",
   "mimetype": "text/x-python",
   "name": "python",
   "nbconvert_exporter": "python",
   "pygments_lexer": "ipython3",
   "version": "3.8.3"
  }
 },
 "nbformat": 4,
 "nbformat_minor": 5
}
